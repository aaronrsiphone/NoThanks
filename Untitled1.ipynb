{
 "cells": [
  {
   "cell_type": "code",
   "execution_count": 45,
   "id": "874e9ff0",
   "metadata": {},
   "outputs": [],
   "source": [
    "import os\n",
    "os.environ[\"CUDA_VISIBLE_DEVICES\"] = \"-1\""
   ]
  },
  {
   "cell_type": "code",
   "execution_count": 46,
   "id": "d6b1aadc-9b03-4994-9aa0-e1fc5bb21746",
   "metadata": {},
   "outputs": [],
   "source": [
    "from tensorflow import keras\n",
    "from tensorflow.keras import backend as K\n",
    "import numpy as np\n",
    "import tensorflow as tf"
   ]
  },
  {
   "cell_type": "code",
   "execution_count": null,
   "id": "24c9e82c",
   "metadata": {},
   "outputs": [],
   "source": []
  },
  {
   "cell_type": "code",
   "execution_count": 47,
   "id": "322ff66f-65f2-4b7a-96fb-75d07a0ca35e",
   "metadata": {},
   "outputs": [],
   "source": [
    "data = np.loadtxt('random_game_play_20000_games_2.csv',delimiter=',', dtype=int)"
   ]
  },
  {
   "cell_type": "code",
   "execution_count": 48,
   "id": "93cdc8df-e488-40ea-9113-483da8c63c57",
   "metadata": {},
   "outputs": [
    {
     "data": {
      "text/plain": [
       "(8765, 156)"
      ]
     },
     "execution_count": 48,
     "metadata": {},
     "output_type": "execute_result"
    }
   ],
   "source": [
    "data.shape\n",
    "# data2 = data[:50000]"
   ]
  },
  {
   "cell_type": "code",
   "execution_count": 49,
   "id": "9545ced6-8d91-4d8c-ad7a-372eef11b281",
   "metadata": {},
   "outputs": [],
   "source": [
    "inputs = data.T[:154].T\n",
    "observations = data.T[154:].T"
   ]
  },
  {
   "cell_type": "code",
   "execution_count": 50,
   "id": "97ec26b3-f4d9-4ca0-9186-cd4ff4881777",
   "metadata": {},
   "outputs": [
    {
     "data": {
      "text/plain": [
       "(8765, 154)"
      ]
     },
     "execution_count": 50,
     "metadata": {},
     "output_type": "execute_result"
    }
   ],
   "source": [
    "inputs.shape"
   ]
  },
  {
   "cell_type": "code",
   "execution_count": 7,
   "id": "428c2f94-d1b5-4737-98ff-c4b044735e12",
   "metadata": {},
   "outputs": [
    {
     "data": {
      "text/plain": [
       "(961702, 2)"
      ]
     },
     "execution_count": 7,
     "metadata": {},
     "output_type": "execute_result"
    }
   ],
   "source": [
    "observations.T[1] = observations.T[1] * -1\n",
    "observations.shape"
   ]
  },
  {
   "cell_type": "code",
   "execution_count": 8,
   "id": "83b3cc48-1e80-442b-a2de-98d571a1e07c",
   "metadata": {},
   "outputs": [
    {
     "data": {
      "text/plain": [
       "array([-1,  1])"
      ]
     },
     "execution_count": 8,
     "metadata": {},
     "output_type": "execute_result"
    }
   ],
   "source": [
    "observations[0]  # action, final_score, change in score after move"
   ]
  },
  {
   "cell_type": "code",
   "execution_count": 9,
   "id": "fa3e361a-2930-4c51-adea-65110e2e48b4",
   "metadata": {},
   "outputs": [],
   "source": [
    "action_score = np.zeros((observations.shape[0],2))\n",
    "for i, row in enumerate(observations):\n",
    "    if row[0] < 0:\n",
    "        action_score[i][0] = row[1]\n",
    "    else:\n",
    "        action_score[i][1] = row[1]"
   ]
  },
  {
   "cell_type": "code",
   "execution_count": 10,
   "id": "ec55de75-f4b0-4374-a5d9-166f4aad30ea",
   "metadata": {},
   "outputs": [
    {
     "data": {
      "text/plain": [
       "array([ 0., 31.])"
      ]
     },
     "execution_count": 10,
     "metadata": {},
     "output_type": "execute_result"
    }
   ],
   "source": [
    "action_score[4]"
   ]
  },
  {
   "cell_type": "code",
   "execution_count": null,
   "id": "6c4ca19b-56b5-49c7-8ccd-117961102677",
   "metadata": {},
   "outputs": [],
   "source": []
  },
  {
   "cell_type": "code",
   "execution_count": 11,
   "id": "64bf3f08-9b24-4685-9a0d-f9718015c2f5",
   "metadata": {},
   "outputs": [],
   "source": [
    "# positive prediction means take the card\n",
    "# positive truth means loss and should result in high score. \n",
    "\n",
    "# def squared_error_masked(y_true, y_pred):\n",
    "#     scale_factor = 1\n",
    "#     \"\"\" Squared error of elements where y_true is not 0 \"\"\"\n",
    "#     err = y_pred - (K.cast(y_true, y_pred.dtype) * scale_factor)\n",
    "#     return K.sum(K.square(err) * K.cast(K.not_equal(y_true, 0),\n",
    "#         y_pred.dtype), axis=-1)\n",
    "\n",
    "def squared_error_masked(y_true, y_pred):\n",
    "    err = K.sum(y_true * y_pred)\n",
    "    return err"
   ]
  },
  {
   "cell_type": "code",
   "execution_count": 12,
   "id": "94a7fe68-7c1d-4764-a4b0-1fd08cbf715e",
   "metadata": {},
   "outputs": [],
   "source": [
    "\n",
    "\n",
    "model = keras.Sequential([\n",
    "    keras.layers.Dense(154, activation='elu'),\n",
    "    keras.layers.Dense(512, activation='elu'),\n",
    "    keras.layers.Dense(512, activation='elu'),\n",
    "    keras.layers.Dense(512, activation='elu'),\n",
    "    keras.layers.Dense(2,   activation='softmax')\n",
    "])\n"
   ]
  },
  {
   "cell_type": "code",
   "execution_count": 13,
   "id": "c1bea65e-708b-4de6-ab96-5ee2f9324535",
   "metadata": {},
   "outputs": [],
   "source": [
    "model.compile(optimizer=keras.optimizers.Adam(learning_rate=1e-3),\n",
    "              loss=squared_error_masked,\n",
    "              metrics=['accuracy'])\n"
   ]
  },
  {
   "cell_type": "code",
   "execution_count": 14,
   "id": "20577d7d-2905-4f13-8672-0ce609ca93bc",
   "metadata": {},
   "outputs": [
    {
     "name": "stdout",
     "output_type": "stream",
     "text": [
      "Epoch 1/5\n",
      "30054/30054 [==============================] - 97s 3ms/step - loss: 16.0300 - accuracy: 0.5953\n",
      "Epoch 2/5\n",
      "30054/30054 [==============================] - 98s 3ms/step - loss: 16.0282 - accuracy: 0.5953\n",
      "Epoch 3/5\n",
      "30054/30054 [==============================] - 101s 3ms/step - loss: 16.0282 - accuracy: 0.5953\n",
      "Epoch 4/5\n",
      "30054/30054 [==============================] - 101s 3ms/step - loss: 16.0282 - accuracy: 0.5953\n",
      "Epoch 5/5\n",
      "30054/30054 [==============================] - 102s 3ms/step - loss: 16.0283 - accuracy: 0.5953\n"
     ]
    },
    {
     "data": {
      "text/plain": [
       "<keras.callbacks.History at 0x1c707ff60a0>"
      ]
     },
     "execution_count": 14,
     "metadata": {},
     "output_type": "execute_result"
    }
   ],
   "source": [
    "model.fit(inputs, action_score, epochs=5)"
   ]
  },
  {
   "cell_type": "code",
   "execution_count": 15,
   "id": "01d7d38b-5baf-4dcc-b922-6e47e27694f5",
   "metadata": {},
   "outputs": [
    {
     "name": "stdout",
     "output_type": "stream",
     "text": [
      "INFO:tensorflow:Assets written to: ./models/model_0\\assets\n"
     ]
    }
   ],
   "source": [
    "model.save('./models/model_0')"
   ]
  },
  {
   "cell_type": "code",
   "execution_count": null,
   "id": "4434362a-c1f8-40d9-bd81-9afc0a1cf4a9",
   "metadata": {},
   "outputs": [],
   "source": []
  },
  {
   "cell_type": "code",
   "execution_count": null,
   "id": "060ca266-5eba-42a2-abfa-9565ea973a02",
   "metadata": {},
   "outputs": [],
   "source": [
    "tf.config.list_physical_devices()"
   ]
  },
  {
   "cell_type": "code",
   "execution_count": null,
   "id": "88480604-be07-4ef3-9478-7b5d717f3ae1",
   "metadata": {},
   "outputs": [],
   "source": []
  },
  {
   "cell_type": "code",
   "execution_count": 11,
   "id": "39f26e82-543c-4115-ba34-59ee417063b6",
   "metadata": {},
   "outputs": [
    {
     "data": {
      "text/plain": [
       "(array([ 16,  78,  84,  88,  90,  93, 101, 105, 107, 121, 154], dtype=int64),)"
      ]
     },
     "execution_count": 11,
     "metadata": {},
     "output_type": "execute_result"
    }
   ],
   "source": [
    "np.where(data[0]==1)"
   ]
  },
  {
   "cell_type": "code",
   "execution_count": 52,
   "id": "47358049-cea2-4ac2-8214-6f554412e612",
   "metadata": {},
   "outputs": [],
   "source": [
    "def decode(row):\n",
    "    data_lengths = [0,33,44,33,44,1]\n",
    "    ones = np.where(row[:33] == 1)\n",
    "    flipped_card = ones[0] + 3\n",
    "    tokens = np.where(row[33:33+44] == 1)\n",
    "    player_hand = np.where(row[33+44:33+44+33] == 1)\n",
    "    player_tokens = np.where(row[33+44+33:33+44+33+44] == 1)\n",
    "    player_action = row[33+44+33+44:33+44+33+44+1]\n",
    "    loss = row[33+44+33+44+1:]\n",
    "    return flipped_card[0], tokens[0], player_hand[0] +3, player_tokens[0][0],player_action,loss\n"
   ]
  },
  {
   "cell_type": "code",
   "execution_count": null,
   "id": "2de0d979-8b7f-46e5-af9d-971789dd52a4",
   "metadata": {},
   "outputs": [],
   "source": []
  },
  {
   "cell_type": "code",
   "execution_count": 62,
   "id": "54e80258-a631-4269-99a0-2c57ea4267e4",
   "metadata": {},
   "outputs": [
    {
     "data": {
      "text/plain": [
       "(5,\n",
       " array([], dtype=int64),\n",
       " array([7], dtype=int64),\n",
       " 14,\n",
       " array([-1]),\n",
       " array([-1]))"
      ]
     },
     "execution_count": 62,
     "metadata": {},
     "output_type": "execute_result"
    }
   ],
   "source": [
    "decode(data[4])"
   ]
  },
  {
   "cell_type": "code",
   "execution_count": 83,
   "id": "1eb443b3-c6a8-4f05-b3fc-4d72d45dcabd",
   "metadata": {},
   "outputs": [],
   "source": []
  },
  {
   "cell_type": "code",
   "execution_count": 88,
   "id": "29bee536-b457-4c66-bc30-4d0bf705ee41",
   "metadata": {},
   "outputs": [
    {
     "data": {
      "text/plain": [
       "<tf.Tensor: shape=(), dtype=int32, numpy=-9>"
      ]
     },
     "execution_count": 88,
     "metadata": {},
     "output_type": "execute_result"
    }
   ],
   "source": [
    "squared_error_masked(np.array([1,0]),np.array([-9,0]))"
   ]
  },
  {
   "cell_type": "code",
   "execution_count": 65,
   "id": "a010990d-e30a-49b0-afe7-741f6d8289fe",
   "metadata": {},
   "outputs": [
    {
     "data": {
      "text/plain": [
       "<tf.Tensor: shape=(1,), dtype=float64, numpy=array([0.18232156])>"
      ]
     },
     "execution_count": 65,
     "metadata": {},
     "output_type": "execute_result"
    }
   ],
   "source": [
    "K.log(np.array([1.2]))"
   ]
  },
  {
   "cell_type": "code",
   "execution_count": 44,
   "id": "c6b840c7-32b7-4904-8102-a1bf83dd388b",
   "metadata": {},
   "outputs": [
    {
     "name": "stdout",
     "output_type": "stream",
     "text": [
      "32/32 [==============================] - 0s 1ms/step\n"
     ]
    },
    {
     "data": {
      "text/plain": [
       "1.1749429e-17"
      ]
     },
     "execution_count": 44,
     "metadata": {},
     "output_type": "execute_result"
    }
   ],
   "source": []
  },
  {
   "cell_type": "code",
   "execution_count": 26,
   "id": "703f01f6-0c1b-495e-8cd3-41dcb3ba005c",
   "metadata": {},
   "outputs": [
    {
     "data": {
      "text/plain": [
       "array([-1, -1, -1, -1, -1, -1, -1, -1, -1, -1, -1, -1, -1, -1, -1, -1, -1,\n",
       "       -1, -1, -1, -1, -1, -1, -1, -1,  1, -1, -1, -1, -1, -1, -1, -1, -1,\n",
       "       -1, -1, -1, -1, -1, -1, -1, -1, -1, -1, -1, -1, -1, -1, -1, -1, -1,\n",
       "       -1, -1, -1, -1, -1, -1, -1, -1, -1, -1, -1, -1, -1, -1, -1, -1, -1,\n",
       "       -1, -1, -1, -1, -1, -1, -1, -1, -1, -1, -1, -1, -1, -1, -1, -1, -1,\n",
       "       -1, -1, -1, -1, -1, -1, -1, -1, -1, -1, -1, -1, -1, -1, -1, -1, -1,\n",
       "       -1, -1, -1, -1, -1, -1, -1, -1, -1, -1, -1, -1, -1, -1, -1, -1, -1,\n",
       "       -1, -1,  1, -1, -1, -1, -1, -1, -1, -1, -1, -1, -1, -1, -1, -1, -1,\n",
       "       -1, -1, -1, -1, -1, -1, -1, -1, -1, -1, -1, -1, -1, -1, -1, -1, -1,\n",
       "       -1])"
      ]
     },
     "execution_count": 26,
     "metadata": {},
     "output_type": "execute_result"
    }
   ],
   "source": [
    "inputs[0]"
   ]
  },
  {
   "cell_type": "code",
   "execution_count": null,
   "id": "0b650e44-3ddb-466c-9300-9400c0b70906",
   "metadata": {},
   "outputs": [],
   "source": []
  }
 ],
 "metadata": {
  "kernelspec": {
   "display_name": "Python 3 (ipykernel)",
   "language": "python",
   "name": "python3"
  },
  "language_info": {
   "codemirror_mode": {
    "name": "ipython",
    "version": 3
   },
   "file_extension": ".py",
   "mimetype": "text/x-python",
   "name": "python",
   "nbconvert_exporter": "python",
   "pygments_lexer": "ipython3",
   "version": "3.9.12"
  }
 },
 "nbformat": 4,
 "nbformat_minor": 5
}
